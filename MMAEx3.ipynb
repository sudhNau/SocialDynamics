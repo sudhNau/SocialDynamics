{
 "cells": [
  {
   "cell_type": "markdown",
   "metadata": {},
   "source": [
    "## Schelling model: \n",
    "\n",
    "Every agent can have one of the binary attributes (-1 or 1).\n",
    "A 2 dimensional lattice represesnts a city/locality over which all the agents are randomly palced.\n",
    "Happiness of each agent is depends on the number of neighbouring agents with same attribute, i.e. agent is happy if 50% of it's neighbouring agents have identical spin like him. If he is not happy it moves to a new random vacant place where it would become happy.\n",
    "\n",
    "we run the simulaiton till a stable condition is reached, i.e. all the agents are happy.\n",
    "\n",
    "\n",
    "*Source code is in the end of the report \n",
    "\n",
    "## Simulation:"
   ]
  },
  {
   "cell_type": "code",
   "execution_count": 100,
   "metadata": {
    "collapsed": false
   },
   "outputs": [
    {
     "name": "stdout",
     "output_type": "stream",
     "text": [
      "30\n"
     ]
    }
   ],
   "source": [
    "print(len(sModel.lattice))"
   ]
  },
  {
   "cell_type": "code",
   "execution_count": 4,
   "metadata": {
    "collapsed": false
   },
   "outputs": [
    {
     "name": "stdout",
     "output_type": "stream",
     "text": [
      "0.1 :\n",
      "0 :->\n",
      ". . . . . . . 1 :->\n",
      ". . . . . . 2 :->\n",
      ". . . . . . . . . . 3 :->\n",
      ". . . . . . . 4 :->\n",
      ". . . . . . . . 5 :->\n",
      ". . . . . . . . 6 :->\n",
      ". . . . . . . 7 :->\n",
      ". . . . . . . . . 8 :->\n",
      ". . . . . . . . . 9 :->\n",
      ". . . . . . . . . . . 10 :->\n",
      ". . . . . . 11 :->\n",
      ". . . . . . . 12 :->\n",
      ". . . . . . . . . . . . 13 :->\n",
      ". . . . . . . . 14 :->\n",
      ". . . . . . . . . . . 15 :->\n",
      ". . . . . . . 16 :->\n",
      ". . . . . . . 17 :->\n",
      ". . . . . . . . . 18 :->\n",
      ". . . . . . 19 :->\n",
      ". . . . . . 20 :->\n",
      ". . . . . 21 :->\n",
      ". . . . . . 22 :->\n",
      ". . . . . . . . 23 :->\n",
      ". . . . . . . . . . . . . 24 :->\n",
      ". . . . . . . . 25 :->\n",
      ". . . . . . . 26 :->\n",
      ". . . . . . 27 :->\n",
      ". . . . . . 28 :->\n",
      ". . . . . . 29 :->\n",
      ". . . . . . . . . . . . . . . . . . 30 :->\n",
      ". . . . . . . . 31 :->\n",
      ". . . . . . 32 :->\n",
      ". . . . . . . . 33 :->\n",
      ". . . . . . . . 34 :->\n",
      ". . . . . 35 :->\n",
      ". . . . . . 36 :->\n",
      ". . . . . . . 37 :->\n",
      ". . . . . . . 38 :->\n",
      ". . . . . . . . . 39 :->\n",
      ". . . . . . 40 :->\n",
      ". . . . . . 41 :->\n",
      ". . . . . . . . . 42 :->\n",
      ". . . . . . . . . 43 :->\n",
      ". . . . . . . . . 44 :->\n",
      ". . . . . . . . . . . . . . 45 :->\n",
      ". . . . . . . 46 :->\n",
      ". . . . . . . 47 :->\n",
      ". . . . . . . . . . 48 :->\n",
      ". . . . . . 49 :->\n",
      ". . . . . 50 :->\n",
      ". . . . . . . . . 51 :->\n",
      ". . . . . . 52 :->\n",
      ". . . . . . . . 53 :->\n",
      ". . . . . . . 54 :->\n",
      ". . . . . . . 55 :->\n",
      ". . . . . . . . . 56 :->\n",
      ". . . . . . . . . 57 :->\n",
      ". . . . . . 58 :->\n",
      ". . . . . . . 59 :->\n",
      ". . . . . . 60 :->\n",
      ". . . . . . . 61 :->\n",
      ". . . . . . . . . . 62 :->\n",
      ". . . . . . . 63 :->\n",
      ". . . . . . . 64 :->\n",
      ". . . . . . . 65 :->\n",
      ". . . . . . . 66 :->\n",
      ". . . . . . . . . . 67 :->\n",
      ". . . . . . . 68 :->\n",
      ". . . . . . . 69 :->\n",
      ". . . . . . 70 :->\n",
      ". . . . . . 71 :->\n",
      ". . . . . . . 72 :->\n",
      ". . . . . . . . 73 :->\n",
      ". . . . . . . . . 74 :->\n",
      ". . . . . . . . . . 75 :->\n",
      ". . . . . 76 :->\n",
      ". . . . . . 77 :->\n",
      ". . . . . 78 :->\n",
      ". . . . . . . . . 79 :->\n",
      ". . . . . . . 80 :->\n",
      ". . . . . 81 :->\n",
      ". . . . . . . . 82 :->\n",
      ". . . . . . . . . 83 :->\n",
      ". . . . . . 84 :->\n",
      ". . . . . . . . . . 85 :->\n",
      ". . . . . . . . . . 86 :->\n",
      ". . . . . . . . 87 :->\n",
      ". . . . . . . . 88 :->\n",
      ". . . . . . . . . . . . 89 :->\n",
      ". . . . . . 90 :->\n",
      ". . . . . . 91 :->\n",
      ". . . . . . 92 :->\n",
      ". . . . . . . 93 :->\n",
      ". . . . . . 94 :->\n",
      ". . . . . . 95 :->\n",
      ". . . . . 96 :->\n",
      ". . . . . . . 97 :->\n",
      ". . . . . . 98 :->\n",
      ". . . . . . 99 :->\n",
      ". . . . . . . 0.1 [293.0, 257.0, 253.0, 275.0, 245.0, 267.0, 260.0, 257.0, 241.0, 267.0, 247.0, 215.0, 259.0, 264.0, 275.0, 238.0, 272.0, 252.0, 263.0, 289.0, 277.0, 252.0, 288.0, 252.0, 287.0, 259.0, 254.0, 263.0, 257.0, 290.0, 249.0, 267.0, 265.0, 277.0, 250.0, 275.0, 274.0, 253.0, 259.0, 292.0, 273.0, 274.0, 248.0, 281.0, 283.0, 216.0, 232.0, 270.0, 247.0, 213.0, 243.0, 223.0, 262.0, 266.0, 249.0, 288.0, 248.0, 285.0, 274.0, 256.0, 280.0, 256.0, 287.0, 252.0, 266.0, 278.0, 278.0, 243.0, 250.0, 252.0, 274.0, 256.0, 269.0, 281.0, 266.0, 276.0, 282.0, 259.0, 270.0, 237.0, 268.0, 263.0, 267.0, 287.0, 271.0, 247.0, 255.0, 255.0, 226.0, 268.0, 274.0, 241.0, 315.0, 265.0, 249.0, 256.0, 255.0, 225.0, 209.0, 305.0]\n",
      "0.2 :\n",
      "0 :->\n",
      ". . . . . . . . . . . 1 :->\n",
      ". . . . . . . . 2 :->\n",
      ". . . . . . 3 :->\n",
      ". . . . . . 4 :->\n",
      ". . . . . . . . 5 :->\n",
      ". . . . . . 6 :->\n",
      ". . . . . . 7 :->\n",
      ". . . . 8 :->\n",
      ". . . . . . . 9 :->\n",
      ". . . . . . 10 :->\n",
      ". . . . . . 11 :->\n",
      ". . . . . . 12 :->\n",
      ". . . . . 13 :->\n",
      ". . . . . 14 :->\n",
      ". . . . . . . 15 :->\n",
      ". . . . . . . . 16 :->\n",
      ". . . . . . . . 17 :->\n",
      ". . . . . . . 18 :->\n",
      ". . . . . . 19 :->\n",
      ". . . . . . 20 :->\n",
      ". . . . . . . 21 :->\n",
      ". . . . . 22 :->\n",
      ". . . . . . . 23 :->\n",
      ". . . . . 24 :->\n",
      ". . . . . . . . . 25 :->\n",
      ". . . . . . . 26 :->\n",
      ". . . . . . 27 :->\n",
      ". . . . . 28 :->\n",
      ". . . . . 29 :->\n",
      ". . . . . . 30 :->\n",
      ". . . . . 31 :->\n",
      ". . . . . . 32 :->\n",
      ". . . . . . . . . . 33 :->\n",
      ". . . . . 34 :->\n",
      ". . . . . . . 35 :->\n",
      ". . . . . . . 36 :->\n",
      ". . . . . . . 37 :->\n",
      ". . . . . . 38 :->\n",
      ". . . . . . . . 39 :->\n",
      ". . . . . . 40 :->\n",
      ". . . . . . . . 41 :->\n",
      ". . . . . . 42 :->\n",
      ". . . . . . 43 :->\n",
      ". . . . . 44 :->\n",
      ". . . . . . . 45 :->\n",
      ". . . . . . . 46 :->\n",
      ". . . . . . . 47 :->\n",
      ". . . . . . 48 :->\n",
      ". . . . . . . 49 :->\n",
      ". . . . . . 50 :->\n",
      ". . . . . . 51 :->\n",
      ". . . . . . 52 :->\n",
      ". . . . . . . 53 :->\n",
      ". . . . . . . 54 :->\n",
      ". . . . . . 55 :->\n",
      ". . . . . 56 :->\n",
      ". . . . . 57 :->\n",
      ". . . . . . . 58 :->\n",
      ". . . . . . 59 :->\n",
      ". . . . . . 60 :->\n",
      ". . . . . 61 :->\n",
      ". . . . . . 62 :->\n",
      ". . . . . . . 63 :->\n",
      ". . . . . . 64 :->\n",
      ". . . . . 65 :->\n",
      ". . . . . . . . 66 :->\n",
      ". . . . . . 67 :->\n",
      ". . . . . . 68 :->\n",
      ". . . . . 69 :->\n",
      ". . . . . . 70 :->\n",
      ". . . . . 71 :->\n",
      ". . . . . . . 72 :->\n",
      ". . . . 73 :->\n",
      ". . . . 74 :->\n",
      ". . . . . . . . . 75 :->\n",
      ". . . . . . . 76 :->\n",
      ". . . . . 77 :->\n",
      ". . . . . 78 :->\n",
      ". . . . . . . . 79 :->\n",
      ". . . . . 80 :->\n",
      ". . . . . . 81 :->\n",
      ". . . . . . 82 :->\n",
      ". . . . . . 83 :->\n",
      ". . . . . 84 :->\n",
      ". . . . . 85 :->\n",
      ". . . . . 86 :->\n",
      ". . . . . . 87 :->\n",
      ". . . . . 88 :->\n",
      ". . . . . . 89 :->\n",
      ". . . . . . 90 :->\n",
      ". . . . . . 91 :->\n",
      ". . . . . . 92 :->\n",
      ". . . . . . 93 :->\n",
      ". . . . . 94 :->\n",
      ". . . . . 95 :->\n",
      ". . . . . . . 96 :->\n",
      ". . . . . 97 :->\n",
      ". . . . . . . . 98 :->\n",
      ". . . . . . . 99 :->\n",
      ". . . . . . . 0.2 [232.0, 182.0, 174.0, 201.0, 177.0, 204.0, 188.0, 184.0, 170.0, 215.0, 208.0, 215.0, 185.0, 215.0, 202.0, 164.0, 182.0, 193.0, 193.0, 186.0, 167.0, 180.0, 219.0, 201.0, 197.0, 183.0, 157.0, 171.0, 201.0, 197.0, 170.0, 229.0, 195.0, 186.0, 201.0, 196.0, 207.0, 227.0, 199.0, 186.0, 193.0, 175.0, 195.0, 204.0, 205.0, 203.0, 190.0, 182.0, 235.0, 202.0, 226.0, 198.0, 200.0, 164.0, 211.0, 229.0, 204.0, 190.0, 221.0, 176.0, 184.0, 182.0, 185.0, 184.0, 176.0, 208.0, 147.0, 182.0, 196.0, 186.0, 197.0, 187.0, 174.0, 194.0, 241.0, 196.0, 201.0, 193.0, 160.0, 204.0, 198.0, 179.0, 163.0, 172.0, 181.0, 209.0, 177.0, 192.0, 184.0, 200.0, 210.0, 209.0, 197.0, 185.0, 175.0, 214.0, 214.0, 188.0, 199.0, 168.0]\n",
      "0.3 :\n",
      "0 :->\n",
      ". . . . . 1 :->\n",
      ". . . . . . 2 :->\n",
      ". . . . 3 :->\n",
      ". . . . . . . 4 :->\n",
      ". . . . . . . . 5 :->\n",
      ". . . . . 6 :->\n",
      ". . . . . . . . . 7 :->\n",
      ". . . . . . 8 :->\n",
      ". . . . 9 :->\n",
      ". . . . . 10 :->\n",
      ". . . . . . . 11 :->\n",
      ". . . . 12 :->\n",
      ". . . . . . . 13 :->\n",
      ". . . . . . . 14 :->\n",
      ". . . . . 15 :->\n",
      ". . . . 16 :->\n",
      ". . . . . 17 :->\n",
      ". . . . . . . 18 :->\n",
      ". . . . . 19 :->\n",
      ". . . . . . . . . . 20 :->\n",
      ". . . . . . 21 :->\n",
      ". . . . . 22 :->\n",
      ". . . . . . 23 :->\n",
      ". . . 24 :->\n",
      ". . . . . 25 :->\n",
      ". . . . . 26 :->\n",
      ". . . . . . . 27 :->\n",
      ". . . . 28 :->\n",
      ". . . . 29 :->\n",
      ". . . . . . . . . 30 :->\n",
      ". . . . . 31 :->\n",
      ". . . . . . 32 :->\n",
      ". . . . 33 :->\n",
      ". . . . . 34 :->\n",
      ". . . . . . 35 :->\n",
      ". . . . . . 36 :->\n",
      ". . . . . . . . . . 37 :->\n",
      ". . . . 38 :->\n",
      ". . . . . . 39 :->\n",
      ". . . . 40 :->\n",
      ". . . . . . 41 :->\n",
      ". . . . 42 :->\n",
      ". . . . . . . 43 :->\n",
      ". . . . . . 44 :->\n",
      ". . . . . . 45 :->\n",
      ". . . . . 46 :->\n",
      ". . . . . 47 :->\n",
      ". . . . . . . . 48 :->\n",
      ". . . . . . 49 :->\n",
      ". . . . . . 50 :->\n",
      ". . . . . . . 51 :->\n",
      ". . . . . 52 :->\n",
      ". . . . . . . 53 :->\n",
      ". . . . . . 54 :->\n",
      ". . . . . 55 :->\n",
      ". . . . 56 :->\n",
      ". . . . 57 :->\n",
      ". . . . . . 58 :->\n",
      ". . . . . 59 :->\n",
      ". . . . . . 60 :->\n",
      ". . . . . 61 :->\n",
      ". . . . . . . 62 :->\n",
      ". . . . . . . 63 :->\n",
      ". . . . . . . 64 :->\n",
      ". . . . . . 65 :->\n",
      ". . . . . . . 66 :->\n",
      ". . . . . . . . . . . 67 :->\n",
      ". . . . . . 68 :->\n",
      ". . . . . . . . 69 :->\n",
      ". . . . . 70 :->\n",
      ". . . . 71 :->\n",
      ". . . . . 72 :->\n",
      ". . . . . 73 :->\n",
      ". . . . 74 :->\n",
      ". . . . . . . 75 :->\n",
      ". . . . 76 :->\n",
      ". . . . . 77 :->\n",
      ". . . . . . . 78 :->\n",
      ". . . . . . 79 :->\n",
      ". . . . . . 80 :->\n",
      ". . . . . . . . 81 :->\n",
      ". . . . . . 82 :->\n",
      ". . . . . . 83 :->\n",
      ". . . . 84 :->\n",
      ". . . . . 85 :->\n",
      ". . . . . 86 :->\n",
      ". . . . . 87 :->\n",
      ". . . . . 88 :->\n",
      ". . . . . 89 :->\n",
      ". . . . . 90 :->\n",
      ". . . . . . 91 :->\n",
      ". . . . . . 92 :->\n",
      ". . . . 93 :->\n",
      ". . . . 94 :->\n",
      ". . . . 95 :->\n",
      ". . . . 96 :->\n",
      ". . . . . 97 :->\n",
      ". . . . . . . 98 :->\n",
      ". . . . . 99 :->\n",
      ". . . . 0.3 [148.0, 150.0, 126.0, 147.0, 147.0, 177.0, 149.0, 122.0, 139.0, 182.0, 138.0, 136.0, 124.0, 151.0, 142.0, 149.0, 135.0, 135.0, 158.0, 132.0, 135.0, 130.0, 151.0, 151.0, 155.0, 116.0, 111.0, 120.0, 130.0, 142.0, 140.0, 117.0, 158.0, 137.0, 135.0, 132.0, 134.0, 126.0, 144.0, 130.0, 158.0, 140.0, 164.0, 131.0, 129.0, 140.0, 150.0, 159.0, 131.0, 148.0, 154.0, 135.0, 141.0, 146.0, 139.0, 148.0, 140.0, 157.0, 136.0, 121.0, 138.0, 143.0, 147.0, 118.0, 148.0, 144.0, 128.0, 115.0, 150.0, 128.0, 157.0, 150.0, 155.0, 145.0, 163.0, 138.0, 139.0, 127.0, 131.0, 134.0, 153.0, 140.0, 138.0, 150.0, 132.0, 152.0, 162.0, 142.0, 124.0, 107.0, 145.0, 135.0, 148.0, 124.0, 127.0, 131.0, 132.0, 132.0, 114.0, 151.0]\n",
      "0.4 :\n",
      "0 :->\n",
      ". . . . . . . 1 :->\n",
      ". . . . 2 :->\n",
      ". . . . 3 :->\n",
      ". . . . . 4 :->\n",
      ". . . 5 :->\n",
      ". . . . . 6 :->\n",
      ". . . . 7 :->\n",
      ". . . . . . . 8 :->\n",
      ". . . . 9 :->\n",
      ". . . . 10 :->\n",
      ". . . . . 11 :->\n",
      ". . . . . . 12 :->\n",
      ". . . . . 13 :->\n",
      ". . . . . 14 :->\n",
      ". . . . . 15 :->\n",
      ". . . . 16 :->\n",
      ". . . . 17 :->\n",
      ". . . . . 18 :->\n",
      ". . . . 19 :->\n",
      ". . . . 20 :->\n",
      ". . . . . . 21 :->\n",
      ". . . . . . 22 :->\n",
      ". . . . 23 :->\n",
      ". . . . 24 :->\n",
      ". . . . . 25 :->\n",
      ". . . . . 26 :->\n",
      ". . . . 27 :->\n",
      ". . . . . 28 :->\n",
      ". . . . 29 :->\n",
      ". . . . 30 :->\n",
      ". . . . 31 :->\n",
      ". . . . . 32 :->\n",
      ". . . . . . . 33 :->\n",
      ". . . 34 :->\n",
      ". . . . . 35 :->\n",
      ". . . . 36 :->\n",
      ". . . . . 37 :->\n",
      ". . . . . 38 :->\n",
      ". . . . 39 :->\n",
      ". . . . . . . . 40 :->\n",
      ". . . . . 41 :->\n",
      ". . . . . . 42 :->\n",
      ". . . 43 :->\n",
      ". . . . . . 44 :->\n",
      ". . . . . 45 :->\n",
      ". . . . . 46 :->\n",
      ". . . . . 47 :->\n",
      ". . . . 48 :->\n",
      ". . . . . . 49 :->\n",
      ". . . . 50 :->\n",
      ". . . . . . 51 :->\n",
      ". . . . . . 52 :->\n",
      ". . . . . 53 :->\n",
      ". . . . . . 54 :->\n",
      ". . . . . 55 :->\n",
      ". . . . 56 :->\n",
      ". . . . . 57 :->\n",
      ". . . . 58 :->\n",
      ". . . . 59 :->\n",
      ". . . . 60 :->\n",
      ". . . . . . 61 :->\n",
      ". . . . 62 :->\n",
      ". . . . 63 :->\n",
      ". . . . 64 :->\n",
      ". . . . 65 :->\n",
      ". . . . 66 :->\n",
      ". . . . . . 67 :->\n",
      ". . . 68 :->\n",
      ". . . . . . 69 :->\n",
      ". . . . 70 :->\n",
      ". . . . . 71 :->\n",
      ". . . . 72 :->\n",
      ". . . . . 73 :->\n",
      ". . . . . 74 :->\n",
      ". . . 75 :->\n",
      ". . . 76 :->\n",
      ". . . . 77 :->\n",
      ". . . . . 78 :->\n",
      ". . . . . 79 :->\n",
      ". . . 80 :->\n",
      ". . . . . 81 :->\n",
      ". . . . 82 :->\n",
      ". . . . 83 :->\n",
      ". . . . . 84 :->\n",
      ". . . . 85 :->\n",
      ". . . . . 86 :->\n",
      ". . . . . 87 :->\n",
      ". . . . 88 :->\n",
      ". . . 89 :->\n",
      ". . . 90 :->\n",
      ". . . . . 91 :->\n",
      ". . . . . 92 :->\n",
      ". . . . 93 :->\n",
      ". . . . 94 :->\n",
      ". . . . 95 :->\n",
      ". . . . . 96 :->\n",
      ". . . 97 :->\n",
      ". . . . . 98 :->\n",
      ". . . . . 99 :->\n",
      ". . . . . 0.4 [99.0, 94.0, 99.0, 92.0, 85.0, 90.0, 78.0, 111.0, 99.0, 120.0, 89.0, 86.0, 96.0, 89.0, 109.0, 110.0, 107.0, 78.0, 106.0, 97.0, 102.0, 85.0, 119.0, 93.0, 94.0, 120.0, 79.0, 108.0, 106.0, 87.0, 114.0, 105.0, 83.0, 92.0, 88.0, 94.0, 71.0, 120.0, 78.0, 105.0, 97.0, 104.0, 115.0, 97.0, 85.0, 95.0, 94.0, 110.0, 85.0, 104.0, 97.0, 110.0, 90.0, 72.0, 82.0, 99.0, 94.0, 111.0, 92.0, 102.0, 108.0, 95.0, 84.0, 95.0, 111.0, 90.0, 98.0, 79.0, 81.0, 92.0, 79.0, 97.0, 92.0, 103.0, 97.0, 88.0, 79.0, 109.0, 88.0, 91.0, 105.0, 113.0, 89.0, 97.0, 83.0, 75.0, 87.0, 74.0, 94.0, 88.0, 83.0, 117.0, 87.0, 99.0, 87.0, 102.0, 87.0, 101.0, 101.0, 117.0]\n",
      "0.5 :\n",
      "0 :->\n",
      ". . . . 1 :->\n",
      ". . . . . . 2 :->\n",
      ". . . 3 :->\n",
      ". . 4 :->\n",
      ". . . . 5 :->\n",
      ". . . 6 :->\n",
      ". . . . 7 :->\n",
      ". . . 8 :->\n",
      ". . . . 9 :->\n",
      ". . . . . 10 :->\n",
      ". . . . . 11 :->\n",
      ". . . 12 :->\n",
      ". . . . 13 :->\n",
      ". . . 14 :->\n",
      ". . . . 15 :->\n",
      ". . . 16 :->\n",
      ". . . . . 17 :->\n",
      ". . 18 :->\n",
      ". . . . . 19 :->\n",
      ". . . . . 20 :->\n",
      ". . . 21 :->\n",
      ". . . . 22 :->\n",
      ". . . . . 23 :->\n",
      ". . . . . 24 :->\n",
      ". . . 25 :->\n",
      ". . . . 26 :->\n",
      ". . . . 27 :->\n",
      ". . . . . . . 28 :->\n",
      ". . . . 29 :->\n",
      ". . . 30 :->\n",
      ". . . . . . . 31 :->\n",
      ". . . . 32 :->\n",
      ". . . 33 :->\n",
      ". . . . 34 :->\n",
      ". . . . 35 :->\n",
      ". . . . 36 :->\n",
      ". . . . 37 :->\n",
      ". . . 38 :->\n",
      ". . . . 39 :->\n",
      ". . . 40 :->\n",
      ". . 41 :->\n",
      ". . . 42 :->\n",
      ". . . 43 :->\n",
      ". . . 44 :->\n",
      ". . . . 45 :->\n",
      ". . . 46 :->\n",
      ". . . . 47 :->\n",
      ". . . . 48 :->\n",
      ". . . . . . 49 :->\n",
      ". . . 50 :->\n",
      ". . . 51 :->\n",
      ". . . . 52 :->\n",
      ". . . 53 :->\n",
      ". . . 54 :->\n",
      ". . . . 55 :->\n",
      ". . . 56 :->\n",
      ". . . 57 :->\n",
      ". . . . 58 :->\n",
      ". . . . 59 :->\n",
      ". . . 60 :->\n",
      ". . . 61 :->\n",
      ". . . 62 :->\n",
      ". . 63 :->\n",
      ". . . . 64 :->\n",
      ". . . . 65 :->\n",
      ". . . 66 :->\n",
      ". . . . 67 :->\n",
      ". . . 68 :->\n",
      ". . . 69 :->\n",
      ". . . . 70 :->\n",
      ". . . . 71 :->\n",
      ". . . 72 :->\n",
      ". . . . 73 :->\n",
      ". . . . 74 :->\n",
      ". . . 75 :->\n",
      ". . . . 76 :->\n",
      ". . . 77 :->\n",
      ". . . . 78 :->\n",
      ". . . 79 :->\n",
      ". . . . . 80 :->\n",
      ". . . . . 81 :->\n",
      ". . . 82 :->\n",
      ". . . 83 :->\n",
      ". . . . . 84 :->\n",
      ". . 85 :->\n",
      ". . . 86 :->\n",
      ". . . 87 :->\n",
      ". . . . 88 :->\n",
      ". . . 89 :->\n",
      ". . . 90 :->\n",
      ". . . . 91 :->\n",
      ". . . 92 :->\n",
      ". . . 93 :->\n",
      ". . . 94 :->\n",
      ". . . 95 :->\n",
      ". . . . 96 :->\n",
      ". . . 97 :->\n",
      ". . . . 98 :->\n",
      ". . . . 99 :->\n",
      ". . . 0.5 [54.0, 46.0, 56.0, 70.0, 58.0, 41.0, 45.0, 64.0, 69.0, 68.0, 87.0, 63.0, 56.0, 60.0, 60.0, 48.0, 60.0, 64.0, 41.0, 56.0, 62.0, 51.0, 57.0, 52.0, 68.0, 57.0, 53.0, 59.0, 61.0, 56.0, 46.0, 55.0, 60.0, 44.0, 63.0, 63.0, 76.0, 60.0, 52.0, 51.0, 68.0, 48.0, 70.0, 63.0, 56.0, 54.0, 76.0, 71.0, 68.0, 48.0, 77.0, 69.0, 66.0, 42.0, 64.0, 72.0, 59.0, 76.0, 61.0, 66.0, 59.0, 71.0, 48.0, 74.0, 63.0, 66.0, 59.0, 54.0, 58.0, 61.0, 54.0, 54.0, 58.0, 63.0, 66.0, 59.0, 56.0, 66.0, 63.0, 56.0, 55.0, 65.0, 63.0, 59.0, 62.0, 75.0, 51.0, 51.0, 47.0, 58.0, 74.0, 70.0, 62.0, 54.0, 62.0, 69.0, 49.0, 52.0, 57.0, 77.0]\n",
      "0.6 :\n",
      "0 :->\n",
      ". . . 1 :->\n",
      ". . 2 :->\n",
      ". . 3 :->\n",
      ". . . 4 :->\n",
      ". . 5 :->\n",
      ". . . 6 :->\n",
      ". . 7 :->\n",
      ". . . 8 :->\n",
      ". . 9 :->\n",
      ". . . 10 :->\n",
      ". . . 11 :->\n",
      ". . 12 :->\n",
      ". . 13 :->\n",
      ". . . . 14 :->\n",
      ". . . . 15 :->\n",
      ". . . . 16 :->\n",
      ". . 17 :->\n",
      ". . . . 18 :->\n",
      ". . . 19 :->\n",
      ". . . . 20 :->\n",
      ". . 21 :->\n",
      ". . . 22 :->\n",
      ". . . 23 :->\n",
      ". . . 24 :->\n",
      ". . . 25 :->\n",
      ". . . 26 :->\n",
      ". . 27 :->\n",
      ". . . 28 :->\n",
      ". . . 29 :->\n",
      ". . 30 :->\n",
      ". . 31 :->\n",
      ". . . 32 :->\n",
      ". . 33 :->\n",
      ". . 34 :->\n",
      ". . . 35 :->\n",
      ". . 36 :->\n",
      ". . . 37 :->\n",
      ". . . 38 :->\n",
      ". . 39 :->\n",
      ". . 40 :->\n",
      ". . 41 :->\n",
      ". . . 42 :->\n",
      ". . 43 :->\n",
      ". . 44 :->\n",
      ". . 45 :->\n",
      ". . . 46 :->\n",
      ". . 47 :->\n",
      ". . 48 :->\n",
      ". . . 49 :->\n",
      ". . 50 :->\n",
      ". . 51 :->\n",
      ". . 52 :->\n",
      ". . . 53 :->\n",
      ". . . 54 :->\n",
      ". . 55 :->\n",
      ". . . 56 :->\n",
      ". . . . . 57 :->\n",
      ". . 58 :->\n",
      ". . 59 :->\n",
      ". . 60 :->\n",
      ". . 61 :->\n",
      ". . . . 62 :->\n",
      ". . 63 :->\n",
      ". . . 64 :->\n",
      ". . 65 :->\n",
      ". . . 66 :->\n",
      ". . . 67 :->\n",
      ". . 68 :->\n",
      ". . . . 69 :->\n",
      ". . 70 :->\n",
      ". . . 71 :->\n",
      ". . 72 :->\n",
      ". . 73 :->\n",
      ". . . 74 :->\n",
      ". . . 75 :->\n",
      ". . 76 :->\n",
      ". . 77 :->\n",
      ". . 78 :->\n",
      ". . . 79 :->\n",
      ". . . 80 :->\n",
      ". . . 81 :->\n",
      ". . 82 :->\n",
      ". . 83 :->\n",
      ". . 84 :->\n",
      ". . 85 :->\n",
      ". . 86 :->\n",
      ". . 87 :->\n",
      ". . . 88 :->\n",
      ". . . 89 :->\n",
      ". . 90 :->\n",
      ". . 91 :->\n",
      ". . . . 92 :->\n",
      ". . . 93 :->\n",
      ". . . 94 :->\n",
      ". . . 95 :->\n",
      ". . 96 :->\n",
      ". . 97 :->\n",
      ". . . 98 :->\n",
      ". . 99 :->\n",
      ". . . 0.6 [25.0, 28.0, 39.0, 20.0, 30.0, 50.0, 32.0, 39.0, 32.0, 39.0, 35.0, 38.0, 27.0, 29.0, 30.0, 37.0, 38.0, 31.0, 36.0, 28.0, 33.0, 33.0, 29.0, 25.0, 23.0, 32.0, 50.0, 28.0, 33.0, 27.0, 35.0, 31.0, 33.0, 23.0, 36.0, 32.0, 34.0, 31.0, 42.0, 26.0, 36.0, 36.0, 45.0, 29.0, 33.0, 26.0, 24.0, 23.0, 34.0, 28.0, 43.0, 32.0, 40.0, 28.0, 23.0, 27.0, 30.0, 35.0, 32.0, 27.0, 30.0, 32.0, 17.0, 34.0, 29.0, 36.0, 33.0, 34.0, 45.0, 32.0, 30.0, 30.0, 42.0, 35.0, 24.0, 30.0, 45.0, 38.0, 40.0, 35.0, 21.0, 44.0, 30.0, 38.0, 37.0, 34.0, 30.0, 39.0, 22.0, 28.0, 33.0, 38.0, 26.0, 24.0, 38.0, 35.0, 38.0, 35.0, 33.0, 26.0]\n"
     ]
    }
   ],
   "source": [
    "#Data\n",
    "size = 30\n",
    "probabilities = [0.1,0.2,0.3,0.4,0.5,0.6]\n",
    "results = {}\n",
    "results['probabilities'] = []\n",
    "results['pairCounts'] = []\n",
    "results['beginningPairCounts'] = []\n",
    "results['errors'] = []\n",
    "for p in probabilities:\n",
    "    print(p,\":\")\n",
    "    pairCount = []\n",
    "    begpairCount = []\n",
    "    for i in range(0,100):\n",
    "        print(i,\":->\")\n",
    "        patience = 0\n",
    "        sModel = SchellingModel(size = size,vacantProb = p)\n",
    "        begpairCount.append(sModel.getOpositePairCounts())\n",
    "        while True:\n",
    "            print(\".\", end=\" \")\n",
    "            sModel.runSimulation(limit=900)\n",
    "            patience+=1\n",
    "            if len(sModel.getUnHappyAgents()) == 0:\n",
    "                pairCount.append(sModel.getOpositePairCounts())\n",
    "                break\n",
    "    print(p,pairCount)\n",
    "    results['probabilities'].append(p)\n",
    "    results['pairCounts'].append(pairCount)\n",
    "    results['beginningPairCounts'].append(begpairCount)\n",
    "    results['errors'].append(np.std(begpairCount)/20)\n"
   ]
  },
  {
   "cell_type": "code",
   "execution_count": 6,
   "metadata": {
    "collapsed": false
   },
   "outputs": [
    {
     "data": {
      "text/plain": [
       "<matplotlib.text.Text at 0x7fe58b00dc88>"
      ]
     },
     "execution_count": 6,
     "metadata": {},
     "output_type": "execute_result"
    },
    {
     "data": {
      "image/png": "[encoded data removed]",
      "text/plain": [
       "<matplotlib.figure.Figure at 0x7fe58ae62048>"
      ]
     },
     "metadata": {},
     "output_type": "display_data"
    }
   ],
   "source": [
    "#Plotting\n",
    "%matplotlib inline\n",
    "import matplotlib.pyplot as plt\n",
    "# Plot 1 subplots\n",
    "fig, axes = plt.subplots(nrows=1, ncols=1, sharex=True, sharey=True,figsize=(15, 8))# Leave space for the legend on bottom and remove some space from the top\n",
    "#axes.plot(results['probabilities'],[p/1800 for p in results[\"beginningPairCounts\"]],marker='o', label=\"Before Simulation\")\n",
    "opposingPairDensity = []\n",
    "stds = []\n",
    "for p in results[\"pairCounts\"]:\n",
    "    density = [pth/1800 for pth in p ]\n",
    "    opposingPairDensity.append(np.mean(density))\n",
    "    stds.append(np.std(density))\n",
    "axes.errorbar(results['probabilities'],opposingPairDensity,yerr=stds,fmt='o-', label=\"After Simulation\")\n",
    "ticks = np.arange(0,np.max(results['probabilities'])+0.2,0.1)\n",
    "plt.xticks(ticks)\n",
    "plt.xlabel('vacant probability', fontsize=12)\n",
    "plt.ylabel('average opposing pair counts', fontsize=12)\n",
    "plt.legend(loc='best')\n",
    "plt.title(\"Schelling Model: Opposing pair density vs vacant probability\",fontsize=16)"
   ]
  },
  {
   "cell_type": "code",
   "execution_count": null,
   "metadata": {
    "collapsed": true
   },
   "outputs": [],
   "source": []
  },
  {
   "cell_type": "markdown",
   "metadata": {},
   "source": [
    "### Lattice visual with vacant probability 0.2"
   ]
  },
  {
   "cell_type": "code",
   "execution_count": 6,
   "metadata": {
    "collapsed": false
   },
   "outputs": [
    {
     "data": {
      "image/png": "[encoded data removed]",
      "text/plain": [
       "<matplotlib.figure.Figure at 0x7f8851493b70>"
      ]
     },
     "metadata": {},
     "output_type": "display_data"
    },
    {
     "name": "stdout",
     "output_type": "stream",
     "text": [
      "After 900 runs: \n"
     ]
    },
    {
     "data": {
      "image/png": "[encoded data removed]",
      "text/plain": [
       "<matplotlib.figure.Figure at 0x7f8851493b00>"
      ]
     },
     "metadata": {},
     "output_type": "display_data"
    }
   ],
   "source": [
    "from matplotlib import colors\n",
    "sModel = SchellingModel(size = size,vacantProb = 0.1)\n",
    "displayLattice(sModel.lattice)\n",
    "sModel.runSimulation(limit=900)\n",
    "print(\"After 900 runs: \")\n",
    "displayLattice(sModel.lattice)"
   ]
  },
  {
   "cell_type": "code",
   "execution_count": 7,
   "metadata": {
    "collapsed": false
   },
   "outputs": [
    {
     "name": "stdout",
     "output_type": "stream",
     "text": [
      "[(0, 1), (0, 16), (2, 23), (4, 6), (5, 9), (5, 16), (7, 7), (9, 2), (9, 19), (9, 25), (11, 5), (11, 12), (13, 29), (16, 5), (16, 29), (17, 23), (17, 29), (18, 6), (18, 9), (18, 21), (18, 22), (21, 11), (21, 17), (23, 1), (24, 18), (24, 28), (25, 4), (25, 7), (25, 19), (25, 28), (27, 1), (27, 4)]\n"
     ]
    }
   ],
   "source": [
    "sModel.runSimulation(limit=900)\n",
    "print(sModel.getUnHappyAgents())"
   ]
  },
  {
   "cell_type": "code",
   "execution_count": 8,
   "metadata": {
    "collapsed": true
   },
   "outputs": [],
   "source": [
    "def getNeighbours(p):\n",
    "    i,j = p\n",
    "    return [(i-1,j),(i+1,j),(i,j-1),(i,j+1)]\n",
    "def beingInLattice(p):\n",
    "    x,y = p\n",
    "    return x >=0 and y >=0 and x <len(a) and y < len(b)\n",
    "\n",
    "a= np.arange(0,30)\n",
    "b= np.arange(0,30)\n",
    "pairs = [(x, y) for x in a for y in b if beingInLattice((x,y)) ]\n",
    "#print(pairs)\n",
    "neigh={}\n",
    "for p in pairs:\n",
    "    neigh[p] = [n for n in getNeighbours(p) if beingInLattice(n)]\n"
   ]
  },
  {
   "cell_type": "code",
   "execution_count": 89,
   "metadata": {
    "collapsed": false
   },
   "outputs": [
    {
     "name": "stdout",
     "output_type": "stream",
     "text": [
      "3480 1740.0\n"
     ]
    }
   ],
   "source": [
    "s = 0\n",
    "for k in neigh:\n",
    "    s+= len(neigh[k])\n",
    "print(s,s/2)"
   ]
  },
  {
   "cell_type": "code",
   "execution_count": 9,
   "metadata": {
    "collapsed": false
   },
   "outputs": [
    {
     "data": {
      "image/png": "[encoded data removed]",
      "text/plain": [
       "<matplotlib.figure.Figure at 0x7f8851493828>"
      ]
     },
     "metadata": {},
     "output_type": "display_data"
    }
   ],
   "source": [
    "displayLattice(sModel.lattice)"
   ]
  },
  {
   "cell_type": "markdown",
   "metadata": {},
   "source": [
    "### Lattice visual with vacant probability 0.5"
   ]
  },
  {
   "cell_type": "code",
   "execution_count": 10,
   "metadata": {
    "collapsed": false
   },
   "outputs": [
    {
     "data": {
      "image/png": "[encoded data removed]",
      "text/plain": [
       "<matplotlib.figure.Figure at 0x7f88512f4f98>"
      ]
     },
     "metadata": {},
     "output_type": "display_data"
    },
    {
     "name": "stdout",
     "output_type": "stream",
     "text": [
      "After 900 runs: \n"
     ]
    },
    {
     "data": {
      "image/png": "[encoded data removed]",
      "text/plain": [
       "<matplotlib.figure.Figure at 0x7f88512f4b00>"
      ]
     },
     "metadata": {},
     "output_type": "display_data"
    }
   ],
   "source": [
    "sModel = SchellingModel(size = size,vacantProb = 0.5)\n",
    "displayLattice(sModel.lattice)\n",
    "sModel.runSimulation(limit=900)\n",
    "print(\"After 900 runs: \")\n",
    "displayLattice(sModel.lattice)"
   ]
  },
  {
   "cell_type": "markdown",
   "metadata": {},
   "source": [
    "### Conclusion:\n",
    "\n",
    "As can be observed from the visuals and plots, Agents tend to seggregate towards according to their attributes. The change between the densities between before and after simulaitons is more pronounced when the site is crowded, i.e. there are very less places to move, and decreases as the total population sparsity (here characterized by the probability of vacant locations)increases."
   ]
  },
  {
   "cell_type": "markdown",
   "metadata": {},
   "source": [
    "## Source code:"
   ]
  },
  {
   "cell_type": "code",
   "execution_count": 3,
   "metadata": {
    "collapsed": false
   },
   "outputs": [],
   "source": [
    "import numpy as np\n",
    "from matplotlib import pyplot as plt\n",
    "import random\n",
    "class SchellingModel:\n",
    "    def __init__(self,vacantProb = 0.5,size = 3):\n",
    "        self.vacantProb = vacantProb\n",
    "        self.size = size\n",
    "        self.lattice = self.initializeLattice(size,vacantProb)\n",
    "        \n",
    "    def initializeLattice(self,size,probability):\n",
    "        a = np.zeros((size,size))\n",
    "        for i in range(0,size):\n",
    "            for j in range(0,size):\n",
    "                if np.random.random() <= probability:\n",
    "                    a[i,j] = 0\n",
    "                else:\n",
    "                    if np.random.random() <= 0.5:\n",
    "                        a[i,j] = 1\n",
    "                    else:\n",
    "                        a[i,j] = -1\n",
    "        return a\n",
    "    \n",
    "    def getNeighbouringAttributes(self,i,j):\n",
    "        options = []\n",
    "        neighbours = [(i-1,j),(i+1,j),(i,j+1),(i,j-1)]\n",
    "        attributes = [self.lattice[x,y] for x,y in neighbours if (x >= 0 and y >= 0) and x <self.size and y < self.size]\n",
    "        return attributes\n",
    "\n",
    "    def isHappy(self,agent,preference = None):\n",
    "        if preference ==None:\n",
    "            preference = self.lattice[agent[0],agent[1]]\n",
    "        neighbourhood = self.getNeighbouringAttributes(agent[0],agent[1])\n",
    "        occupied = len(neighbourhood) - neighbourhood.count(0)\n",
    "        if occupied == 0 or neighbourhood.count(preference)/occupied >= 0.5:\n",
    "            return True\n",
    "        else:\n",
    "            return False\n",
    "    \n",
    "    def getRandomUnHappyAgent(self):\n",
    "        agents = self.getOccupiedPositions(self.lattice)\n",
    "        randomLocation = np.random.random_integers(0,len(agents)-1)\n",
    "        if self.isHappy(agents[randomLocation]) == False:\n",
    "            return agents[randomLocation]\n",
    "        else:\n",
    "            #print(\"Returning without update\")\n",
    "            return None\n",
    "    \n",
    "    def getRandomViableLocation(self,agent):\n",
    "        locations = self.getVacantPositions(self.lattice)\n",
    "        viableLocations = [location for location in locations if self.isHappy(location,self.lattice[agent[0],agent[1]])]\n",
    "        return viableLocations[random.randrange(0,len(viableLocations))]\n",
    "    \n",
    "    def executeUpdate(self):\n",
    "        agent = self.getRandomUnHappyAgent()\n",
    "        if agent==None:\n",
    "            return\n",
    "        location =self.getRandomViableLocation(agent)\n",
    "        self.move(agent,location)\n",
    "    \n",
    "    def move(self,agent,location):\n",
    "        self.lattice[location[0],location[1]] = self.lattice[agent[0],agent[1]]\n",
    "        self.lattice[agent[0],agent[1]] = 0\n",
    "    \n",
    "    def getVacantPositions(self,lattice):\n",
    "        a = np.where(lattice==0)\n",
    "        return list(zip(a[0],a[1]))\n",
    "    \n",
    "    def getOccupiedPositions(self,lattice):\n",
    "        a = np.where(lattice!=0)\n",
    "        return list(zip(a[0],a[1]))\n",
    "    \n",
    "    def getUnHappyAgents(self):\n",
    "        agents = self.getOccupiedPositions(self.lattice)\n",
    "        unHappyAgents = [agent for agent in agents if self.isHappy(agent) == False]\n",
    "        return unHappyAgents\n",
    "        \n",
    "    def runSimulation(self,limit=100):\n",
    "        patience = 0\n",
    "        while(patience < limit):\n",
    "            self.executeUpdate()\n",
    "            patience +=1\n",
    "            #print(patience)\n",
    "        \n",
    "    def getOpositePairCounts(self):\n",
    "        agents = self.getOccupiedPositions(self.lattice)\n",
    "        opposingPairs = [(x, y) for x in agents for y in agents if self.areNeighbours(x,y) and self.lattice[x[0],x[1]] != self.lattice[y[0],y[1]]]\n",
    "        return len(opposingPairs)/2\n",
    "    \n",
    "    def areNeighbours(self,x,y):\n",
    "        i,j = x\n",
    "        if y in [(i-1,j),(i+1,j),(i,j+1),(i,j-1)]:\n",
    "            return True\n",
    "        else:\n",
    "            return False\n",
    "    \n",
    "def displayLattice(lattice):\n",
    "    fig, axes = plt.subplots(nrows=1, ncols=1, sharex=True, sharey=True,figsize=(15, 8))# Leave space for the legend on bottom and remove some space from the top\n",
    "    cmap = colors.ListedColormap(['blue','white', 'red'])\n",
    "    bounds=[-1,0,1]\n",
    "    norm = colors.BoundaryNorm(bounds, cmap.N)\n",
    "    # tell imshow about color map so that only set colors are used\n",
    "    img = plt.imshow(lattice,cmap=cmap,interpolation='none')\n",
    "    # make a color bar\n",
    "    plt.colorbar(img, cmap=cmap, norm=norm, boundaries=bounds, ticks=[-1, 0, 1])\n",
    "    plt.show()\n"
   ]
  },
  {
   "cell_type": "code",
   "execution_count": 47,
   "metadata": {
    "collapsed": false
   },
   "outputs": [],
   "source": [
    "model = SchellingModel(vacantProb = 0.2, size=3)"
   ]
  },
  {
   "cell_type": "code",
   "execution_count": 48,
   "metadata": {
    "collapsed": false
   },
   "outputs": [
    {
     "data": {
      "image/png": "[encoded data removed]",
      "text/plain": [
       "<matplotlib.figure.Figure at 0x7f8851332e48>"
      ]
     },
     "metadata": {},
     "output_type": "display_data"
    }
   ],
   "source": [
    "displayLattice(model.lattice)"
   ]
  },
  {
   "cell_type": "code",
   "execution_count": 49,
   "metadata": {
    "collapsed": false
   },
   "outputs": [
    {
     "data": {
      "text/plain": [
       "2.0"
      ]
     },
     "execution_count": 49,
     "metadata": {},
     "output_type": "execute_result"
    }
   ],
   "source": [
    "model.getOpositePairCounts()"
   ]
  },
  {
   "cell_type": "code",
   "execution_count": 38,
   "metadata": {
    "collapsed": false
   },
   "outputs": [
    {
     "data": {
      "text/plain": [
       "0"
      ]
     },
     "execution_count": 38,
     "metadata": {},
     "output_type": "execute_result"
    }
   ],
   "source": [
    "model.runSimulation(limit=900)\n",
    "len(model.getUnHappyAgents())"
   ]
  },
  {
   "cell_type": "code",
   "execution_count": 54,
   "metadata": {
    "collapsed": false
   },
   "outputs": [
    {
     "data": {
      "text/plain": [
       "0.1097938144329897"
      ]
     },
     "execution_count": 54,
     "metadata": {},
     "output_type": "execute_result"
    }
   ],
   "source": [
    "#a = [205.0, 192.0, 198.0, 171.0, 194.0, 208.0, 163.0, 198.0, 194.0, 171.0, 202.0, 211.0, 208.0, 196.0, 191.0, 210.0, 198.0, 187.0, 151.0, 186.0]\n",
    "np.mean([i/1746 for i in a])"
   ]
  }
 ],
 "metadata": {
  "kernelspec": {
   "display_name": "Python 3",
   "language": "python",
   "name": "python3"
  },
  "language_info": {
   "codemirror_mode": {
    "name": "ipython",
    "version": 3
   },
   "file_extension": ".py",
   "mimetype": "text/x-python",
   "name": "python",
   "nbconvert_exporter": "python",
   "pygments_lexer": "ipython3",
   "version": "3.4.3"
  }
 },
 "nbformat": 4,
 "nbformat_minor": 0
}
